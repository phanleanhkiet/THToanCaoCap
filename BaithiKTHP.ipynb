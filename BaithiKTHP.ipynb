{
  "nbformat": 4,
  "nbformat_minor": 0,
  "metadata": {
    "colab": {
      "name": " BaithiKTHP.ipynb",
      "provenance": [],
      "include_colab_link": true
    },
    "kernelspec": {
      "name": "python3",
      "display_name": "Python 3"
    },
    "language_info": {
      "name": "python"
    }
  },
  "cells": [
    {
      "cell_type": "markdown",
      "metadata": {
        "id": "view-in-github",
        "colab_type": "text"
      },
      "source": [
        "<a href=\"https://colab.research.google.com/github/phanleanhkiet/THToanCaoCap/blob/main/BaithiKTHP.ipynb\" target=\"_parent\"><img src=\"https://colab.research.google.com/assets/colab-badge.svg\" alt=\"Open In Colab\"/></a>"
      ]
    },
    {
      "cell_type": "markdown",
      "source": [
        "1. Tích phân\n"
      ],
      "metadata": {
        "id": "-BW3fCWKYd9s"
      }
    },
    {
      "cell_type": "markdown",
      "source": [
        "1"
      ],
      "metadata": {
        "id": "D_HouA2YZIxN"
      }
    },
    {
      "cell_type": "code",
      "source": [
        "from sympy import Symbol, Integral\n",
        "x = Symbol('x')\n",
        "f = (2*x+1)/(x+1)\n",
        "unbound1 = Integral(f, (x, 0, 1))\n",
        "unbound1.doit()"
      ],
      "metadata": {
        "colab": {
          "base_uri": "https://localhost:8080/",
          "height": 37
        },
        "id": "JKYQMazpeGS8",
        "outputId": "a06247b7-e8be-4307-c682-4ef5b062e2eb"
      },
      "execution_count": null,
      "outputs": [
        {
          "output_type": "execute_result",
          "data": {
            "text/plain": [
              "2 - log(2)"
            ],
            "text/latex": "$\\displaystyle 2 - \\log{\\left(2 \\right)}$"
          },
          "metadata": {},
          "execution_count": 1
        }
      ]
    },
    {
      "cell_type": "code",
      "source": [
        "import scipy.integrate\n",
        "\n",
        "import numpy as np\n",
        "\n",
        "f = lambda x: (2*x+1)/x*(x+1)\n",
        "\n",
        "i, e = scipy.integrate.quad(f,1,2)\n",
        "\n",
        "print(i)"
      ],
      "metadata": {
        "colab": {
          "base_uri": "https://localhost:8080/"
        },
        "id": "WhAtmjt4eqcF",
        "outputId": "8f90b057-4b6d-4b55-9cef-2cb0da7fb8bc"
      },
      "execution_count": null,
      "outputs": [
        {
          "output_type": "stream",
          "name": "stdout",
          "text": [
            "6.693147180559945\n"
          ]
        }
      ]
    },
    {
      "cell_type": "markdown",
      "source": [
        "2. Tính đạo hàm"
      ],
      "metadata": {
        "id": "V97WxuX5eL5y"
      }
    },
    {
      "cell_type": "code",
      "source": [
        "from sympy import Symbol,Derivative \n",
        "x=Symbol('x')\n",
        "f=(2*x-1)/(x+2)\n",
        "d1=Derivative(f,x).doit()\n",
        "d1"
      ],
      "metadata": {
        "colab": {
          "base_uri": "https://localhost:8080/",
          "height": 58
        },
        "id": "YkApncnXePZz",
        "outputId": "9c1c0134-7f8d-43f2-8a6c-afaac1eb7204"
      },
      "execution_count": null,
      "outputs": [
        {
          "output_type": "execute_result",
          "data": {
            "text/plain": [
              "2/(x + 2) - (2*x - 1)/(x + 2)**2"
            ],
            "text/latex": "$\\displaystyle \\frac{2}{x + 2} - \\frac{2 x - 1}{\\left(x + 2\\right)^{2}}$"
          },
          "metadata": {},
          "execution_count": 2
        }
      ]
    },
    {
      "cell_type": "code",
      "source": [
        "from sympy import Symbol,Derivative\n",
        "x=Symbol('x')\n",
        "f=(x**2+3*x+3)/(x+1)\n",
        "d1=Derivative(f,x).doit()\n",
        "a=f.subs(x,-1)\n",
        "a"
      ],
      "metadata": {
        "colab": {
          "base_uri": "https://localhost:8080/",
          "height": 37
        },
        "id": "U6h8iy-AefmM",
        "outputId": "4f1adf78-d8ba-434f-a49b-7e58199e8890"
      },
      "execution_count": null,
      "outputs": [
        {
          "output_type": "execute_result",
          "data": {
            "text/plain": [
              "zoo"
            ],
            "text/latex": "$\\displaystyle \\tilde{\\infty}$"
          },
          "metadata": {},
          "execution_count": 5
        }
      ]
    },
    {
      "cell_type": "markdown",
      "source": [
        "3. Tích phân giới hạn"
      ],
      "metadata": {
        "id": "xQqltRkee_Tp"
      }
    },
    {
      "cell_type": "code",
      "source": [
        "from sympy import Symbol, Limit ,S\n",
        "x=Symbol('x')\n",
        "Limit((1+x+x**2+x**3)/(1+x),x,0,dir='-').doit()"
      ],
      "metadata": {
        "colab": {
          "base_uri": "https://localhost:8080/",
          "height": 37
        },
        "id": "l2lFkWQYf0PL",
        "outputId": "903acc4b-7dd9-488e-c2ff-b21a031d063d"
      },
      "execution_count": null,
      "outputs": [
        {
          "output_type": "execute_result",
          "data": {
            "text/plain": [
              "1"
            ],
            "text/latex": "$\\displaystyle 1$"
          },
          "metadata": {},
          "execution_count": 12
        }
      ]
    }
  ]
}