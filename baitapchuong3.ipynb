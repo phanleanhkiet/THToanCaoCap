{
  "nbformat": 4,
  "nbformat_minor": 0,
  "metadata": {
    "colab": {
      "name": "baitapchuong3.ipynb",
      "provenance": [],
      "authorship_tag": "ABX9TyOf131+soLrd254rkFT7sM7",
      "include_colab_link": true
    },
    "kernelspec": {
      "name": "python3",
      "display_name": "Python 3"
    },
    "language_info": {
      "name": "python"
    }
  },
  "cells": [
    {
      "cell_type": "markdown",
      "metadata": {
        "id": "view-in-github",
        "colab_type": "text"
      },
      "source": [
        "<a href=\"https://colab.research.google.com/github/phanleanhkiet/THToanCaoCap/blob/main/baitapchuong3.ipynb\" target=\"_parent\"><img src=\"https://colab.research.google.com/assets/colab-badge.svg\" alt=\"Open In Colab\"/></a>"
      ]
    },
    {
      "cell_type": "markdown",
      "source": [
        "th1"
      ],
      "metadata": {
        "id": "0_za-_GpWRKU"
      }
    },
    {
      "cell_type": "code",
      "source": [
        "def luythua(X,n):\n",
        "  ketqua=1\n",
        "  for i in range(n):\n",
        "    ketqua=ketqua*X\n",
        "  return ketqua \n",
        "print(luythua(2,1))"
      ],
      "metadata": {
        "id": "OyXdIOj1WR4W"
      },
      "execution_count": null,
      "outputs": []
    },
    {
      "cell_type": "code",
      "source": [
        " print(luythua(2,0))"
      ],
      "metadata": {
        "id": "9aGbtOpKWiLZ"
      },
      "execution_count": null,
      "outputs": []
    },
    {
      "cell_type": "markdown",
      "source": [
        "th2"
      ],
      "metadata": {
        "id": "YxqDmpyOWkKq"
      }
    },
    {
      "cell_type": "code",
      "source": [
        " while 1 = 2"
      ],
      "metadata": {
        "id": "rvjBMOeNWnqb"
      },
      "execution_count": null,
      "outputs": []
    },
    {
      "cell_type": "code",
      "source": [
        " 10*(1/0)"
      ],
      "metadata": {
        "id": "CLQfMB74XTY9"
      },
      "execution_count": null,
      "outputs": []
    },
    {
      "cell_type": "code",
      "source": [
        "3*bien_chua_khai_bao/4"
      ],
      "metadata": {
        "id": "hBC7GENvXVxx"
      },
      "execution_count": null,
      "outputs": []
    },
    {
      "cell_type": "code",
      "source": [
        " 'ba'+7"
      ],
      "metadata": {
        "id": "vAjk2PodXXsm"
      },
      "execution_count": null,
      "outputs": []
    },
    {
      "cell_type": "code",
      "source": [
        "10*(1/0)"
      ],
      "metadata": {
        "id": "S83Cd5lSXZre"
      },
      "execution_count": null,
      "outputs": []
    },
    {
      "cell_type": "code",
      "source": [
        "'ba'+(1/0)"
      ],
      "metadata": {
        "id": "Diop3gG0Xbl4"
      },
      "execution_count": null,
      "outputs": []
    },
    {
      "cell_type": "code",
      "source": [
        "'ba'+7+(1/0)"
      ],
      "metadata": {
        "id": "7nazBS3GXhna"
      },
      "execution_count": null,
      "outputs": []
    },
    {
      "cell_type": "markdown",
      "source": [
        "th4"
      ],
      "metadata": {
        "id": "Pgoo7R_CXwEv"
      }
    },
    {
      "cell_type": "code",
      "source": [
        "while True:\n",
        "  try: \n",
        "    x=int(input('Vui long nhap so:'))\n",
        "  except ValueError:\n",
        "    print('So vua nhap sai')\n",
        "  else:\n",
        "    print('so vua nhap la'+str(x))\n",
        "    break\n",
        "  finally:\n",
        "    print(\"Da hoan thanh chuong trinh\")"
      ],
      "metadata": {
        "id": "PPWh_P04XxOo"
      },
      "execution_count": null,
      "outputs": []
    }
  ]
}