{
  "nbformat": 4,
  "nbformat_minor": 0,
  "metadata": {
    "colab": {
      "name": "chuong6.ipynb",
      "provenance": [],
      "authorship_tag": "ABX9TyPK3LhQhBjH+7W4BxgQqymQ",
      "include_colab_link": true
    },
    "kernelspec": {
      "name": "python3",
      "display_name": "Python 3"
    },
    "language_info": {
      "name": "python"
    }
  },
  "cells": [
    {
      "cell_type": "markdown",
      "metadata": {
        "id": "view-in-github",
        "colab_type": "text"
      },
      "source": [
        "<a href=\"https://colab.research.google.com/github/phanleanhkiet/THToanCaoCap/blob/main/chuong6.ipynb\" target=\"_parent\"><img src=\"https://colab.research.google.com/assets/colab-badge.svg\" alt=\"Open In Colab\"/></a>"
      ]
    },
    {
      "cell_type": "markdown",
      "source": [
        "th1"
      ],
      "metadata": {
        "id": "pmsh9JDgGC4e"
      }
    },
    {
      "cell_type": "code",
      "source": [
        "import math\n",
        "def giaithua(n):\n",
        "  if (n==0):\n",
        "    return 1\n",
        "  else:\n",
        "    return n*giaithua(n-1)\n",
        "giaithua(3)"
      ],
      "metadata": {
        "id": "I7XNXChHGEvu"
      },
      "execution_count": null,
      "outputs": []
    },
    {
      "cell_type": "code",
      "source": [
        "giaithua(4)"
      ],
      "metadata": {
        "id": "y-nTqyR0GIY3"
      },
      "execution_count": null,
      "outputs": []
    },
    {
      "cell_type": "markdown",
      "source": [
        "th2"
      ],
      "metadata": {
        "id": "z7VBl4ObGLcR"
      }
    },
    {
      "cell_type": "code",
      "source": [
        "def fibo(n):\n",
        "  if n == 0:\n",
        "    return 0\n",
        "  if n ==1:\n",
        "    return 1\n",
        "  return fibo(n-1)+fibo(n-2)\n",
        "fibo(4)\n"
      ],
      "metadata": {
        "id": "juPOydn8GMgN"
      },
      "execution_count": null,
      "outputs": []
    },
    {
      "cell_type": "code",
      "source": [
        "fibo(5)"
      ],
      "metadata": {
        "id": "buehFWeaGRa8"
      },
      "execution_count": null,
      "outputs": []
    },
    {
      "cell_type": "code",
      "source": [
        "fibo(6)"
      ],
      "metadata": {
        "id": "nx49Q22-GUph"
      },
      "execution_count": null,
      "outputs": []
    },
    {
      "cell_type": "markdown",
      "source": [
        "th3"
      ],
      "metadata": {
        "id": "6qlGx5WaGZBG"
      }
    },
    {
      "cell_type": "code",
      "source": [
        "def an_exp_an(n):\n",
        "  if n ==1:\n",
        "    return 1.0/2\n",
        "  else:\n",
        "    return an_exp_an(n-1)**an_exp_an(n-1)\n",
        "an_exp_an(1)"
      ],
      "metadata": {
        "id": "IqoWjTy8Gcjf"
      },
      "execution_count": null,
      "outputs": []
    },
    {
      "cell_type": "code",
      "source": [
        "an_exp_an(2)"
      ],
      "metadata": {
        "id": "pTMoB9RVGdKt"
      },
      "execution_count": null,
      "outputs": []
    },
    {
      "cell_type": "code",
      "source": [
        "an_exp_an(3)"
      ],
      "metadata": {
        "id": "Av72rC3UGfLF"
      },
      "execution_count": null,
      "outputs": []
    },
    {
      "cell_type": "code",
      "source": [
        "an_exp_an(4)"
      ],
      "metadata": {
        "id": "C2DzC0t2Ggu7"
      },
      "execution_count": null,
      "outputs": []
    },
    {
      "cell_type": "code",
      "source": [
        "an_exp_an(5)"
      ],
      "metadata": {
        "id": "aDEwC3ceGjif"
      },
      "execution_count": null,
      "outputs": []
    },
    {
      "cell_type": "code",
      "source": [
        "an_exp_an(10)"
      ],
      "metadata": {
        "id": "lGiAwLp6GnOB"
      },
      "execution_count": null,
      "outputs": []
    },
    {
      "cell_type": "markdown",
      "source": [
        "th4"
      ],
      "metadata": {
        "id": "DJVBUsiOGpve"
      }
    },
    {
      "cell_type": "code",
      "source": [
        "def bai4(n):\n",
        "  if n == 1:\n",
        "    return 4\n",
        "  else:\n",
        "    return 5.0/(6-bai4(n-1))"
      ],
      "metadata": {
        "id": "Wc_WDSZxGvBY"
      },
      "execution_count": null,
      "outputs": []
    },
    {
      "cell_type": "code",
      "source": [
        "bai4(5)"
      ],
      "metadata": {
        "id": "ubP7GxssGx3X"
      },
      "execution_count": null,
      "outputs": []
    },
    {
      "cell_type": "markdown",
      "source": [
        "th5"
      ],
      "metadata": {
        "id": "s4_KNmfOG1P6"
      }
    },
    {
      "cell_type": "code",
      "source": [
        "def tisoFibo(n): \n",
        " if n==1: \n",
        "  return 1 \n",
        " else: \n",
        "  return 1.0 + 1.0/tisoFibo(n-1) \n",
        "for i in range(1, 11):\n",
        "  print (i, tisoFibo(i))"
      ],
      "metadata": {
        "id": "N3lv9qReG3tP"
      },
      "execution_count": null,
      "outputs": []
    },
    {
      "cell_type": "code",
      "source": [
        "from sympy import Derivative, Symbol, sympify \n",
        "def grad_ascent(x0, ham_f1x, x): \n",
        " epsilon = 1e-6 \n",
        " step_size = 1e-4 \n",
        " x_old = x0 \n",
        " x_new = x_old + step_size*ham_f1x.subs({x:x_old}).evalf() \n",
        " while abs(x_old - x_new) > epsilon: \n",
        "  x_old = x_new \n",
        "  x_new = x_old + step_size*ham_f1x.subs({x:x_old}).evalf()\n",
        " return x_new\n",
        "if __name__ == '__main__': \n",
        " f = input('Nhap ham 1 bien (f): ') \n",
        " var = input('Nhap ten bien tuong ung (x): ') \n",
        " var0 = float(input('Nhap gia tri khoi dau cho bien x: '))\n",
        " try:\n",
        "  f = sympify(f) # kiem tra ham \n",
        " except SympifyError: \n",
        "  print('Ham nhap khong hop le!') \n",
        " else: \n",
        "  var = Symbol(var) \n",
        "  d = Derivative(f, var).doit() \n",
        "  var_max = grad_ascent(var0, d, var) \n",
        "  print('{0}: {1}'.format(var.name, var_max)) \n",
        "  print('Maximum value: {0}'.format(f.subs({var:var_max})))"
      ],
      "metadata": {
        "id": "5oVCa1dnG7J_"
      },
      "execution_count": null,
      "outputs": []
    },
    {
      "cell_type": "code",
      "source": [
        "from sympy import Derivative, Symbol, sympify \n",
        "def grad_ascent(x0, ham_f1x, x): \n",
        " from sympy import solve, E \n",
        " if not solve(ham_f1x): \n",
        "  print('Khong the tiep tuc, phuong trinh {0}=0 vo nghiem'.format(ham_f1x)) \n",
        "  return\n",
        " epsilon = 1e-6 \n",
        " step_size = 1e-4 \n",
        " x_old = x0 \n",
        " x_new = x_old + step_size*ham_f1x.subs({x:x_old}).evalf() \n",
        " while abs(x_old - x_new) > epsilon: \n",
        "  x_old = x_new \n",
        "  x_new = x_old + step_size*ham_f1x.subs({x:x_old}).evalf()\n",
        " return x_new"
      ],
      "metadata": {
        "id": "j9RMQGCyG-ez"
      },
      "execution_count": null,
      "outputs": []
    },
    {
      "cell_type": "code",
      "source": [
        ""
      ],
      "metadata": {
        "id": "apVbYg4UHBju"
      },
      "execution_count": null,
      "outputs": []
    },
    {
      "cell_type": "code",
      "source": [
        "if __name__ == '__main__':\n",
        " f = input('Nhap ham 1 bien (f): ')\n",
        " var = input('Nhap ten bien tuong ung (x): ')\n",
        " var0 = float(input('Nhap gia tri khoi dau cho bien x: '))\n",
        " try: \n",
        "  f = sympify(f)\n",
        " except SympifyError: \n",
        "  print('Ham nhap khong hop le!') \n",
        " else: \n",
        "  var = Symbol(var) \n",
        "  d = Derivative(f, var).doit() \n",
        "  var_max = grad_ascent(var0, d, var) \n",
        " if var_max: \n",
        "  print('{0}: {1}'.format(var.name, var_max)) \n",
        "  print('Maximum value: {0}'.format(f.subs({var:var_max}))) \n"
      ],
      "metadata": {
        "id": "tg72mHB3HBuc"
      },
      "execution_count": null,
      "outputs": []
    }
  ]
}