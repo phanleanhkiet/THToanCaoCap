{
  "nbformat": 4,
  "nbformat_minor": 0,
  "metadata": {
    "colab": {
      "name": "baitapchuong1.ipynb",
      "provenance": [],
      "authorship_tag": "ABX9TyMgCMZ3wZVVTKLemzUBT8/r",
      "include_colab_link": true
    },
    "kernelspec": {
      "name": "python3",
      "display_name": "Python 3"
    },
    "language_info": {
      "name": "python"
    }
  },
  "cells": [
    {
      "cell_type": "markdown",
      "metadata": {
        "id": "view-in-github",
        "colab_type": "text"
      },
      "source": [
        "<a href=\"https://colab.research.google.com/github/phanleanhkiet/THToanCaoCap/blob/main/baitapchuong1.ipynb\" target=\"_parent\"><img src=\"https://colab.research.google.com/assets/colab-badge.svg\" alt=\"Open In Colab\"/></a>"
      ]
    },
    {
      "cell_type": "code",
      "execution_count": null,
      "metadata": {
        "id": "Ba9Cvjz4qE4Q",
        "colab": {
          "base_uri": "https://localhost:8080/"
        },
        "outputId": "665bdf08-7713-481b-d0a8-b04b9cd154fe"
      },
      "outputs": [
        {
          "output_type": "stream",
          "name": "stdout",
          "text": [
            "hello wỏld\n"
          ]
        }
      ],
      "source": [
        "print('hello wỏld')"
      ]
    },
    {
      "cell_type": "markdown",
      "source": [
        "vd9"
      ],
      "metadata": {
        "id": "vdHfM2aBz-EY"
      }
    },
    {
      "cell_type": "code",
      "source": [
        "from sympy import *\n",
        "#from sympy import Limit\n",
        "x = Symbol('x')\n",
        "limit(1/x,x,0,dir='-').doit()"
      ],
      "metadata": {
        "id": "N1JglyZOsSYd"
      },
      "execution_count": null,
      "outputs": []
    },
    {
      "cell_type": "markdown",
      "source": [
        "vd9b"
      ],
      "metadata": {
        "id": "Z5SfT68b0DZ-"
      }
    },
    {
      "cell_type": "code",
      "source": [
        "from sympy import *\n",
        "#from sympy import Limit\n",
        "x = Symbol('x')\n",
        "limit(1/x,x,0,dir='+').doit()"
      ],
      "metadata": {
        "id": "Te2XEs6_0FCH",
        "outputId": "aa0076d2-c716-49c7-bc11-fd766bcb7988",
        "colab": {
          "base_uri": "https://localhost:8080/",
          "height": 37
        }
      },
      "execution_count": 10,
      "outputs": [
        {
          "output_type": "execute_result",
          "data": {
            "text/latex": "$\\displaystyle \\infty$",
            "text/plain": [
              "oo"
            ]
          },
          "metadata": {},
          "execution_count": 10
        }
      ]
    }
  ]
}