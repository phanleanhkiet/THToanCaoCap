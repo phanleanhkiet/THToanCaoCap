{
  "nbformat": 4,
  "nbformat_minor": 0,
  "metadata": {
    "colab": {
      "name": "chuong5.ipynb",
      "provenance": [],
      "include_colab_link": true
    },
    "kernelspec": {
      "name": "python3",
      "display_name": "Python 3"
    },
    "language_info": {
      "name": "python"
    }
  },
  "cells": [
    {
      "cell_type": "markdown",
      "metadata": {
        "id": "view-in-github",
        "colab_type": "text"
      },
      "source": [
        "<a href=\"https://colab.research.google.com/github/phanleanhkiet/THToanCaoCap/blob/main/chuong5.ipynb\" target=\"_parent\"><img src=\"https://colab.research.google.com/assets/colab-badge.svg\" alt=\"Open In Colab\"/></a>"
      ]
    },
    {
      "cell_type": "code",
      "execution_count": null,
      "metadata": {
        "id": "at9ENWW-A6VE",
        "outputId": "f7f42e8f-84de-4a33-8f48-ff81fe145eef",
        "colab": {
          "base_uri": "https://localhost:8080/"
        }
      },
      "outputs": [
        {
          "output_type": "stream",
          "name": "stdout",
          "text": [
            "3\n"
          ]
        }
      ],
      "source": [
        "x=3\n",
        "print(x)"
      ]
    },
    {
      "cell_type": "code",
      "source": [
        " import math\n",
        " x = math.sqrt(1+x)\n",
        " print (x) "
      ],
      "metadata": {
        "id": "_BK7BjEtKr8t",
        "outputId": "40db979d-677f-4731-9b58-c42abbaddf54",
        "colab": {
          "base_uri": "https://localhost:8080/"
        }
      },
      "execution_count": null,
      "outputs": [
        {
          "output_type": "stream",
          "name": "stdout",
          "text": [
            "2.0\n"
          ]
        }
      ]
    },
    {
      "cell_type": "code",
      "source": [
        ""
      ],
      "metadata": {
        "id": "j6XtwDWuK5J6"
      },
      "execution_count": null,
      "outputs": []
    },
    {
      "cell_type": "markdown",
      "source": [
        "TH2:"
      ],
      "metadata": {
        "id": "l2RoHi25LBan"
      }
    },
    {
      "cell_type": "code",
      "source": [
        "import math\n",
        "x = 3 \n",
        "lap = 1 \n",
        "while (x != math.sqrt(x+1)):\n",
        "  x = math.sqrt(x+1) \n",
        "  lap = lap  +1"
      ],
      "metadata": {
        "id": "5bYEAn2dLD8K"
      },
      "execution_count": null,
      "outputs": []
    },
    {
      "cell_type": "markdown",
      "source": [
        "TH3:"
      ],
      "metadata": {
        "id": "l-ekdhz8OGRj"
      }
    },
    {
      "cell_type": "code",
      "source": [
        "import sympy as sp\n",
        "from sympy import Symbol \n",
        "x = Symbol('x') \n",
        "sp.solve(x-sp.sqrt(1+x),x) "
      ],
      "metadata": {
        "id": "ov1eQAJgOHkS",
        "outputId": "e11d5340-3e6f-405a-94f7-b9eead9e7880",
        "colab": {
          "base_uri": "https://localhost:8080/"
        }
      },
      "execution_count": null,
      "outputs": [
        {
          "output_type": "execute_result",
          "data": {
            "text/plain": [
              "[1/2 + sqrt(5)/2]"
            ]
          },
          "metadata": {},
          "execution_count": 6
        }
      ]
    },
    {
      "cell_type": "markdown",
      "source": [
        "TH4:\n"
      ],
      "metadata": {
        "id": "d3azC1fjOZGS"
      }
    },
    {
      "cell_type": "code",
      "source": [
        "import numpy as np \n",
        "v1 = np.array([1., 2., 3.])  # tạo vector 3 chiều\n",
        "v2 = np.array([2., 1., 0.]) \n",
        "v3 = v1 + v2     # cộng vector\n",
        "v3"
      ],
      "metadata": {
        "id": "6TGG3SZ6OalB",
        "outputId": "4303b3be-77a5-483a-bf3f-93a0b4d04141",
        "colab": {
          "base_uri": "https://localhost:8080/"
        }
      },
      "execution_count": null,
      "outputs": [
        {
          "output_type": "execute_result",
          "data": {
            "text/plain": [
              "array([3., 3., 3.])"
            ]
          },
          "metadata": {},
          "execution_count": 7
        }
      ]
    },
    {
      "cell_type": "code",
      "source": [
        " 3*v1  + 2*v2"
      ],
      "metadata": {
        "id": "ej02y7UCQ7PB",
        "outputId": "09329c1e-abbd-4f41-978b-cb1981878355",
        "colab": {
          "base_uri": "https://localhost:8080/"
        }
      },
      "execution_count": null,
      "outputs": [
        {
          "output_type": "execute_result",
          "data": {
            "text/plain": [
              "array([7., 8., 9.])"
            ]
          },
          "metadata": {},
          "execution_count": 8
        }
      ]
    },
    {
      "cell_type": "code",
      "source": [
        "[1, 2, 3] + [2, 1, 0] "
      ],
      "metadata": {
        "id": "OrQ7TvWHQ8jD",
        "outputId": "88ad0caa-bcba-4a1b-d725-b05bb23893b3",
        "colab": {
          "base_uri": "https://localhost:8080/"
        }
      },
      "execution_count": null,
      "outputs": [
        {
          "output_type": "execute_result",
          "data": {
            "text/plain": [
              "[1, 2, 3, 2, 1, 0]"
            ]
          },
          "metadata": {},
          "execution_count": 9
        }
      ]
    },
    {
      "cell_type": "code",
      "source": [
        "3*[1, 2, 3] + 2*[2, 1, 0] "
      ],
      "metadata": {
        "id": "mBkuICb7Q_Bz",
        "outputId": "ce7a5654-8bfb-48cb-ee18-27f0bb48b4b4",
        "colab": {
          "base_uri": "https://localhost:8080/"
        }
      },
      "execution_count": null,
      "outputs": [
        {
          "output_type": "execute_result",
          "data": {
            "text/plain": [
              "[1, 2, 3, 1, 2, 3, 1, 2, 3, 2, 1, 0, 2, 1, 0]"
            ]
          },
          "metadata": {},
          "execution_count": 10
        }
      ]
    },
    {
      "cell_type": "code",
      "source": [
        "np.dot(v1, v2) "
      ],
      "metadata": {
        "id": "IXRm03asREeT",
        "outputId": "e2941208-f7b6-4d08-b450-443462f2d0c6",
        "colab": {
          "base_uri": "https://localhost:8080/"
        }
      },
      "execution_count": null,
      "outputs": [
        {
          "output_type": "execute_result",
          "data": {
            "text/plain": [
              "4.0"
            ]
          },
          "metadata": {},
          "execution_count": 11
        }
      ]
    },
    {
      "cell_type": "code",
      "source": [
        " from sympy import sin as sysin \n",
        "angles = np.linspace(0, np.pi/2, 5) \n",
        "sinangle = np.zeros(5)     # tương đương >>> sinangle = np.array([0.0, 0.0, 0.0, 0.0, 0.0]) \n",
        "len(angles)  # kiểm tra kích thước/số chiều của vector angles. >>\n",
        "for i in range(len(angles)): \n",
        " \n",
        " \n",
        " sinangle[i] = sysin(angles[i])      # lưu ý: ở đây phải enter 2 lần để thoát khỏi vòng for\n",
        "\n",
        "\n",
        "  sinangle "
      ],
      "metadata": {
        "id": "okV3DwzpRFla",
        "outputId": "432d229f-f222-4e7a-bb23-472c311f43ed",
        "colab": {
          "base_uri": "https://localhost:8080/",
          "height": 130
        }
      },
      "execution_count": null,
      "outputs": [
        {
          "output_type": "error",
          "ename": "IndentationError",
          "evalue": "ignored",
          "traceback": [
            "\u001b[0;36m  File \u001b[0;32m\"<ipython-input-18-edda0f1478ce>\"\u001b[0;36m, line \u001b[0;32m8\u001b[0m\n\u001b[0;31m    sinangle[i] = sysin(angles[i])      # lưu ý: ở đây phải enter 2 lần để thoát khỏi vòng for\u001b[0m\n\u001b[0m           ^\u001b[0m\n\u001b[0;31mIndentationError\u001b[0m\u001b[0;31m:\u001b[0m expected an indented block\n"
          ]
        }
      ]
    }
  ]
}